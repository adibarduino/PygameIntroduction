{
  "nbformat": 4,
  "nbformat_minor": 0,
  "metadata": {
    "colab": {
      "name": "1 Python Introduction.ipynb",
      "provenance": [],
      "toc_visible": true,
      "authorship_tag": "ABX9TyOeRDKGuPPdCZtfG1Lh16CY",
      "include_colab_link": true
    },
    "kernelspec": {
      "name": "python3",
      "display_name": "Python 3"
    }
  },
  "cells": [
    {
      "cell_type": "markdown",
      "metadata": {
        "id": "view-in-github",
        "colab_type": "text"
      },
      "source": [
        "<a href=\"https://colab.research.google.com/github/adibarduino/PygameIntroduction/blob/master/%231_Python_Introduction.ipynb\" target=\"_parent\"><img src=\"https://colab.research.google.com/assets/colab-badge.svg\" alt=\"Open In Colab\"/></a>"
      ]
    },
    {
      "cell_type": "markdown",
      "metadata": {
        "id": "Q8CTuPOwF2Bl",
        "colab_type": "text"
      },
      "source": [
        "\n",
        "# INTRODUCTION A LA PROGRAMMATION PYTHON\n",
        "\n",
        "© MatheX  – Licence CC-BY-SA 4.0\n",
        "\n",
        "\n",
        "\n"
      ]
    },
    {
      "cell_type": "markdown",
      "metadata": {
        "id": "Jtm-ST3ZcDE7",
        "colab_type": "text"
      },
      "source": [
        "> **Objectifs:**\n",
        ">*   Introduire Python pour les élèves de 2nd\n",
        ">*   Synthétiser les connaissances en programmation pour les élèves de 2nd et de 1ère spé Maths\n",
        ">*   Mettre en place des fondamentaux sur Python en début de 1ère spé NSI\n"
      ]
    },
    {
      "cell_type": "markdown",
      "metadata": {
        "id": "Z2IJXtb9d8JC",
        "colab_type": "text"
      },
      "source": [
        "> **Méthodologie:**\n",
        "> *   Lire l'activité\n",
        "> *   Réaliser les missions en programmant sur un environnement de développement:\n",
        ">     *  en ligne ( [présent notebook](https://colab.research.google.com/drive/1jLLudzIceqNM197-oBSv2bJKeKUHr0aX?usp=sharing), [repl.it](https://repl.it/), [pythontutor](http://www.pythontutor.com) , ...)\n",
        ">     *  installé sur votre ordinateur ( [idle de Python](https://www.python.org/downloads/), [Thonny](https://thonny.org/), [Pycharm Community](https://www.jetbrains.com/pycharm/download/#section=mac), ...)\n",
        "> *   Visionner la vidéo de l'épisode pour plus d'explications et pour la correction\n"
      ]
    },
    {
      "cell_type": "markdown",
      "metadata": {
        "colab_type": "text",
        "id": "Wiu1XtWL8LZt"
      },
      "source": [
        "# \\#1. Programme et Instructions"
      ]
    },
    {
      "cell_type": "markdown",
      "metadata": {
        "id": "1oiGce4J9gjG",
        "colab_type": "text"
      },
      "source": [
        "> **Objectifs:**\n",
        ">*   Comprendre ce qu'est un algorithme, un programme et une instruction\n",
        ">*   Construire un programme en Python avec des instructions de base\n",
        "\n",
        "\n"
      ]
    },
    {
      "cell_type": "markdown",
      "metadata": {
        "id": "J08H7RaM9F29",
        "colab_type": "text"
      },
      "source": [
        "Un **algorithme** est une suite d'étapes à suivre pour atteindre un objectif. On peut l'écrire en langage naturel ou en pseudo code.\n",
        "\n",
        "Un **programme** informatique est l'implémentation d'un algorithme dans un langage de programmation, il peut être exécuté dans une machine.\n",
        "\n",
        "Un programme est constitué d'une suite finie d'**instructions**:\n",
        "\n",
        "```\n",
        "<instruction 1>  \n",
        "<instruction 2>   \n",
        "    . . .   \n",
        "<instruction n>  `\n",
        "```\n",
        "\n",
        "Ces instructions peuvent être de différentes natures, voici quelques exemples dans le langage Python:"
      ]
    },
    {
      "cell_type": "code",
      "metadata": {
        "colab_type": "code",
        "id": "dZnsgyuG8LZ0",
        "colab": {}
      },
      "source": [
        "###############################\n",
        "# Opération entre des données #\n",
        "###############################\n",
        "\n",
        "2 + 2         # addition entre deux nombres entiers\n",
        "2 * 2         # multiplication entre deux nombres entiers\n",
        "2 ** 3        # puissance: 2 à la puissance 3\n",
        "\n",
        "7 / 2         # division décimale entre deux entiers (le résultat n'est plus forcément un entier)\n",
        "7 // 2        # quotient de la division euclidienne entre deux entiers\n",
        "7 % 2         # reste de la division euclidienne entre deux entiers\n",
        "\n",
        "'Python' + 'Introduction' # concaténation de deux chaînes de caractères (textes)\n",
        "'Python' * 3              # concaténation de plusieurs fois la même chaîne de caractères\n",
        "\n",
        "\n",
        "##################################################\n",
        "# Appel à des services du système d'exploitation #\n",
        "##################################################\n",
        "\n",
        "print(\"Python Introduction\")       # affichage d'un texte sur la sortie standard (l'écran)\n",
        "print(\"2 x 2 = \", 2 * 2 )          # affichage d'un texte puis du résultat d'une expression arithmétique\n",
        "\n",
        "input(\"Donnez votre réponse:\")    # récupération d'un texte depuis l'entrée standard (le clavier)\n",
        "\n",
        "\n",
        "##################################################\n",
        "# Nous en verrons d'autres par la suite:         #\n",
        "# - Affectation                                  #\n",
        "# - Contrôle:                                    #\n",
        "#       - condition                              #\n",
        "#       - boucle bornée                          #\n",
        "#       - boucle non bornée                      #\n",
        "##################################################\n"
      ],
      "execution_count": 0,
      "outputs": []
    },
    {
      "cell_type": "markdown",
      "metadata": {
        "colab_type": "text",
        "id": "Q-kvZXgN8LZ4"
      },
      "source": [
        "\n",
        "\n",
        "## Mission 1.1.\n"
      ]
    },
    {
      "cell_type": "markdown",
      "metadata": {
        "id": "ewfsFm8U53gg",
        "colab_type": "text"
      },
      "source": [
        "> Programmer une instruction qui affiche:   \n",
        "> $7 = 3 \\times 2 + 1$  \n",
        "> en calculant les valeurs 3 et 1 avec des expressions arithmétiques"
      ]
    },
    {
      "cell_type": "code",
      "metadata": {
        "id": "VKplAJxT2-hi",
        "colab_type": "code",
        "colab": {}
      },
      "source": [
        "# Ecrire votre programme ici:\n",
        "\n",
        "\n"
      ],
      "execution_count": 0,
      "outputs": []
    },
    {
      "cell_type": "markdown",
      "metadata": {
        "colab_type": "text",
        "id": "vDPc2q0J9OAR"
      },
      "source": [
        "## Mission 1.2.\n"
      ]
    },
    {
      "cell_type": "markdown",
      "metadata": {
        "colab_type": "text",
        "id": "ZkwVwMW39OAU"
      },
      "source": [
        "> Programmer une instruction qui affiche un texte entré par l'utilisateur depuis le clavier"
      ]
    },
    {
      "cell_type": "code",
      "metadata": {
        "colab_type": "code",
        "id": "hLyVzHp89OAV",
        "colab": {}
      },
      "source": [
        "# Ecrire votre programme ici:\n",
        "\n",
        "\n"
      ],
      "execution_count": 0,
      "outputs": []
    },
    {
      "cell_type": "markdown",
      "metadata": {
        "colab_type": "text",
        "id": "XcrlRPDx-RDN"
      },
      "source": [
        "## Mission 1.3.\n"
      ]
    },
    {
      "cell_type": "markdown",
      "metadata": {
        "colab_type": "text",
        "id": "smK26L4Y-RDQ"
      },
      "source": [
        "> Programmer une instruction qui demande à l'utilisateur son nom, le récupère, puis l'affiche concaténé dix fois."
      ]
    },
    {
      "cell_type": "code",
      "metadata": {
        "colab_type": "code",
        "id": "nqifJ_so-RDR",
        "colab": {}
      },
      "source": [
        "# Ecrire votre programme ici:\n",
        "\n",
        "\n"
      ],
      "execution_count": 0,
      "outputs": []
    },
    {
      "cell_type": "markdown",
      "metadata": {
        "colab_type": "text",
        "id": "8SUJLL_ReGFg"
      },
      "source": [
        "## Vidéo:\n"
      ]
    },
    {
      "cell_type": "markdown",
      "metadata": {
        "colab_type": "text",
        "id": "fQgtoY4YeGFh"
      },
      "source": [
        "> https://youtu.be/zYhnN3jspUc"
      ]
    }
  ]
}